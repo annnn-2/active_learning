{
 "cells": [
  {
   "cell_type": "code",
   "execution_count": 1,
   "metadata": {},
   "outputs": [],
   "source": [
    "import numpy as np\n",
    "import torch\n",
    "from torch import nn\n",
    "\n",
    "import copy\n",
    "import time\n",
    "import matplotlib.pyplot as plt\n",
    "\n",
    "import seaborn as sns\n",
    "\n",
    "%matplotlib inline"
   ]
  },
  {
   "cell_type": "code",
   "execution_count": 2,
   "metadata": {},
   "outputs": [],
   "source": [
    "N_FRAMES = 4"
   ]
  },
  {
   "cell_type": "code",
   "execution_count": 3,
   "metadata": {},
   "outputs": [],
   "source": [
    "class ExperienceReplay():\n",
    "    def __init__(self, capacity):\n",
    "        self.capacity = capacity\n",
    "        self.data = []\n",
    "        \n",
    "    def add_step(self, step_data):\n",
    "        self.data.append(step_data)\n",
    "        if len(self.data) > self.capacity:\n",
    "            self.data = self.data[-self.capacity:]\n",
    "            \n",
    "    def sample(self, n):\n",
    "        n = min(n, len(self.data))\n",
    "        indices = np.random.choice(range(len(self.data)), n, replace=False)\n",
    "        samples = np.asarray(self.data, dtype=\"object\")[indices]\n",
    "\n",
    "        state_data = torch.tensor(np.stack(samples[:, 0])).float()\n",
    "        act_data = torch.tensor(np.stack(samples[:, 1])).float()\n",
    "        reward_data = torch.tensor(np.stack(samples[:, 2])).float()\n",
    "        next_state_data = torch.tensor(np.stack(samples[:, 3])).float()\n",
    "        terminal_data = torch.tensor(np.stack(samples[:, 4])).int()\n",
    "        \n",
    "        return state_data, act_data, reward_data, next_state_data, terminal_data"
   ]
  },
  {
   "cell_type": "code",
   "execution_count": 4,
   "metadata": {},
   "outputs": [],
   "source": [
    "class DQN(nn.Module):\n",
    "    def __init__(self, inp_size):\n",
    "        \n",
    "        super(DQN, self).__init__()\n",
    "        \n",
    "        self.layer1 = nn.Sequential(\n",
    "            nn.Linear(inp_size,64),\n",
    "            nn.ReLU())\n",
    "        self.layer2 = nn.Sequential(\n",
    "            nn.Linear(64,64),\n",
    "            nn.ReLU())\n",
    "        self.layer3 = nn.Sequential(\n",
    "            nn.Linear(64,1))\n",
    "            #nn.ReLU())\n",
    "        \n",
    "    def forward(self, state_action):\n",
    "        q_value = self.layer1(state_action)\n",
    "        q_value = self.layer2(q_value)\n",
    "        q_value = self.layer3(q_value)\n",
    "        \n",
    "        return q_value\n",
    "        \n",
    "    def train_on_batch(self, target_model, optimizer, state0, act,\n",
    "                                 reward, state1, terminal_data, acts, gamma=0.5):\n",
    "        K=len(acts)\n",
    "        \n",
    "        inp = np.concatenate(([state1[0]]*K,acts),axis=1)\n",
    "\n",
    "        if len(state1)>1:\n",
    "            for i in state1[1:]:\n",
    "                inp = np.concatenate((inp,np.concatenate(([i]*K,acts),axis=1)),axis=0)\n",
    "\n",
    "       \n",
    "        input = torch.tensor(inp).float() \n",
    "        \n",
    "\n",
    "        q_values = self.forward(input)\n",
    "        #print(q_values.reshape(-1,K))\n",
    "        max_q_val = torch.max(q_values.reshape(-1,K),dim=1)[0].detach()\n",
    "        \n",
    "        #act = acts[torch.argmax(q_values,dim=1).detach()]\n",
    "        \n",
    "        terminal_mod = 1 - terminal_data\n",
    "        \n",
    "        act_qs = reward + terminal_mod*gamma*max_q_val\n",
    "        \n",
    "        input = torch.tensor(np.concatenate((state0,act),axis=1)).float() \n",
    "        prev_qs = self.forward(input)\n",
    "\n",
    "        loss = torch.mean((act_qs-prev_qs)**2)\n",
    "       \n",
    "        optimizer.zero_grad()\n",
    "        loss.backward()\n",
    "        optimizer.step()\n"
   ]
  },
  {
   "cell_type": "markdown",
   "metadata": {},
   "source": [
    "# DQN "
   ]
  },
  {
   "cell_type": "code",
   "execution_count": 6,
   "metadata": {},
   "outputs": [],
   "source": [
    "from environment import Environment\n",
    "from scipy.stats import qmc"
   ]
  },
  {
   "cell_type": "code",
   "execution_count": 7,
   "metadata": {},
   "outputs": [],
   "source": [
    "X = np.linspace(-3,3,90).reshape(-1,3)\n",
    "X_dim = 3\n",
    "y = np.sum(np.sin(X),axis=1)\n",
    "\n",
    "def f(x):\n",
    "    s = np.sin(x).shape\n",
    "    if len(s)>1:\n",
    "        return np.sum(np.sin(x),axis=1)\n",
    "    else:\n",
    "        return [np.sum(np.sin(x))]\n",
    "\n",
    "l_bounds = [-3,-3,-3]\n",
    "u_bounds = [3,3,3]\n",
    "\n",
    "env = Environment(X = X,y = y,l_bounds = l_bounds,u_bounds = u_bounds, func = f, model = 'NN',model_param = {'d':3,'nb_nodes':30,'nb_layers':3,'verbose':False})\n",
    "\n",
    "state = env.Reset()"
   ]
  },
  {
   "cell_type": "code",
   "execution_count": 8,
   "metadata": {},
   "outputs": [],
   "source": [
    "X = np.linspace(-3,3,10).reshape(10,-1)\n",
    "X_dim = 1\n",
    "\n",
    "l_bounds = [-3,]\n",
    "u_bounds = [3,]\n",
    "\n",
    "sampler = qmc.LatinHypercube(d=X_dim)\n",
    "sample = sampler.random(n=10)\n",
    "sample_scaled = qmc.scale(sample, l_bounds, u_bounds)\n",
    "X = np.array(sample_scaled)\n",
    "X = np.array([[0]]*20)\n",
    "y = np.sin(X)\n",
    "#X = np.sort(X,axis=0)\n",
    "\n",
    "env = Environment(X = X,y = y,l_bounds = l_bounds,u_bounds = u_bounds, func = np.sin, model = 'NN',model_param = {'d':1,'nb_nodes':30,'nb_layers':3,'verbose':False})\n",
    "\n",
    "state = env.Reset()"
   ]
  },
  {
   "cell_type": "code",
   "execution_count": 14,
   "metadata": {},
   "outputs": [],
   "source": [
    "n_episodes = 100\n",
    "max_steps = 100\n",
    "er_capacity = 500 # 1m in paper\n",
    "\n",
    "train_batch_size = 128\n",
    "learning_rate = 2.5e-4\n",
    "update_freq = 4\n",
    "print_freq = 5\n",
    "frame_skip = 3\n",
    "n_anneal_steps = 1000\n",
    "target_update_delay = 10 \n",
    "epsilon = lambda step: np.clip(1 - 0.9 * (step/n_anneal_steps), 0.1, 1)"
   ]
  },
  {
   "cell_type": "code",
   "execution_count": 15,
   "metadata": {},
   "outputs": [],
   "source": [
    "import random "
   ]
  },
  {
   "cell_type": "code",
   "execution_count": 16,
   "metadata": {},
   "outputs": [],
   "source": [
    "torch.manual_seed(0)\n",
    "random.seed(0)"
   ]
  },
  {
   "cell_type": "code",
   "execution_count": 22,
   "metadata": {},
   "outputs": [
    {
     "name": "stdout",
     "output_type": "stream",
     "text": [
      "True 1\n",
      "Episode #0 | Step #34 | Epsilon 0.97 | Avg. Reward 1.00\n",
      "True 1\n",
      "True 1\n",
      "True 1\n",
      "True 1\n",
      "True 1\n",
      "Episode #5 | Step #167 | Epsilon 0.85 | Avg. Reward 1.00\n",
      "True 1\n",
      "True 1\n",
      "True 1\n",
      "True 1\n",
      "True 1\n",
      "Episode #10 | Step #285 | Epsilon 0.74 | Avg. Reward 1.00\n",
      "True 1\n",
      "True 1\n",
      "True 1\n",
      "True 1\n",
      "True 1\n",
      "Episode #15 | Step #405 | Epsilon 0.64 | Avg. Reward 1.00\n",
      "True 1\n",
      "True 1\n",
      "True 1\n",
      "True 1\n",
      "True 1\n",
      "Episode #20 | Step #537 | Epsilon 0.52 | Avg. Reward 1.00\n",
      "True 1\n",
      "True 1\n",
      "True 1\n",
      "True 1\n",
      "True 1\n",
      "Episode #25 | Step #660 | Epsilon 0.41 | Avg. Reward 1.00\n",
      "True 1\n",
      "True 1\n",
      "True 1\n",
      "True 1\n",
      "True 1\n",
      "Episode #30 | Step #785 | Epsilon 0.29 | Avg. Reward 1.00\n",
      "True 1\n",
      "True 1\n",
      "True 1\n",
      "True 1\n",
      "True 1\n",
      "Episode #35 | Step #927 | Epsilon 0.17 | Avg. Reward 1.00\n",
      "True 1\n",
      "True 1\n",
      "True 1\n",
      "True 1\n",
      "True 1\n",
      "Episode #40 | Step #1105 | Epsilon 0.10 | Avg. Reward 1.00\n",
      "True 1\n",
      "True 1\n",
      "True 1\n",
      "True 1\n",
      "True 1\n",
      "Episode #45 | Step #1305 | Epsilon 0.10 | Avg. Reward 1.00\n",
      "True 1\n",
      "True 1\n",
      "True 1\n",
      "True 1\n",
      "True 1\n",
      "Episode #50 | Step #1470 | Epsilon 0.10 | Avg. Reward 1.00\n",
      "True 1\n",
      "True 1\n",
      "True 1\n",
      "True 1\n",
      "True 1\n",
      "Episode #55 | Step #1632 | Epsilon 0.10 | Avg. Reward 1.00\n",
      "True 1\n",
      "True 1\n",
      "True 1\n",
      "True 1\n",
      "True 1\n",
      "Episode #60 | Step #1793 | Epsilon 0.10 | Avg. Reward 1.00\n",
      "True 1\n",
      "True 1\n",
      "True 1\n",
      "True 1\n",
      "True 1\n",
      "Episode #65 | Step #1956 | Epsilon 0.10 | Avg. Reward 1.00\n",
      "True 1\n",
      "True 1\n",
      "True 1\n",
      "True 1\n",
      "True 1\n",
      "Episode #70 | Step #2124 | Epsilon 0.10 | Avg. Reward 1.00\n",
      "True 1\n",
      "True 1\n",
      "True 1\n",
      "True 1\n",
      "True 1\n",
      "Episode #75 | Step #2277 | Epsilon 0.10 | Avg. Reward 1.00\n",
      "True 1\n",
      "True 1\n",
      "True 1\n",
      "True 1\n",
      "True 1\n",
      "Episode #80 | Step #2430 | Epsilon 0.10 | Avg. Reward 1.00\n",
      "True 1\n",
      "True 1\n",
      "True 1\n",
      "True 1\n",
      "True 1\n",
      "Episode #85 | Step #2552 | Epsilon 0.10 | Avg. Reward 1.00\n",
      "True 1\n",
      "True 1\n",
      "True 1\n",
      "True 1\n",
      "True 1\n",
      "Episode #90 | Step #2699 | Epsilon 0.10 | Avg. Reward 1.00\n",
      "True 1\n",
      "True 1\n",
      "True 1\n",
      "True 1\n",
      "True 1\n",
      "Episode #95 | Step #2838 | Epsilon 0.10 | Avg. Reward 1.00\n",
      "True 1\n",
      "True 1\n",
      "True 1\n",
      "True 1\n",
      "[1, 1, 1, 1, 1, 1, 1, 1, 1, 1, 1, 1, 1, 1, 1, 1, 1, 1, 1, 1, 1, 1, 1, 1, 1, 1, 1, 1, 1, 1, 1, 1, 1, 1, 1, 1, 1, 1, 1, 1, 1, 1, 1, 1, 1, 1, 1, 1, 1, 1, 1, 1, 1, 1, 1, 1, 1, 1, 1, 1, 1, 1, 1, 1, 1, 1, 1, 1, 1, 1, 1, 1, 1, 1, 1, 1, 1, 1, 1, 1, 1, 1, 1, 1, 1, 1, 1, 1, 1, 1, 1, 1, 1, 1, 1, 1, 1, 1, 1, 1]\n"
     ]
    }
   ],
   "source": [
    "er = ExperienceReplay(er_capacity)\n",
    "inp_size = len(state)+X_dim\n",
    "model = DQN(inp_size)\n",
    "\n",
    "target_model = copy.deepcopy(model)\n",
    "optimizer = torch.optim.RMSprop(model.parameters(), lr=learning_rate, eps=1e-6)\n",
    "all_rewards = []\n",
    "global_step = 0\n",
    "\n",
    "K = 100\n",
    "sampler = qmc.LatinHypercube(d=X_dim)\n",
    "sample = sampler.random(n=K)\n",
    "sample_scaled = qmc.scale(sample, l_bounds, u_bounds)\n",
    "acts = np.array(sample_scaled)\n",
    "acts_ = np.sort(acts,axis=0)\n",
    "\n",
    "for episode in range(n_episodes):\n",
    "    obs = env.Reset()\n",
    "    \n",
    "    episode_reward = 0\n",
    "    step = 0\n",
    "    acts = acts_.copy()\n",
    "    K=100\n",
    "\n",
    "    while step < max_steps:\n",
    "        ### Epsilon - greedy ###\n",
    "        if np.random.rand() < epsilon(global_step):\n",
    "            act = random.choices(acts,k=1)[0]\n",
    "           \n",
    "        else:   \n",
    "            input = torch.tensor(np.concatenate(([obs]*K,acts),axis=1)).float() \n",
    "            q_values = model(input)\n",
    "            #print(q_values)\n",
    "           \n",
    "            act = acts[np.argmax(q_values.detach().numpy())]\n",
    "        \n",
    "        next_obs, reward, done, _ = env.Step(act)\n",
    "        reward = reward\n",
    "        \n",
    "        er.add_step([obs, act, reward, next_obs, int(done)])\n",
    "        obs = next_obs\n",
    "       \n",
    "        \n",
    "        ### Train on a minibatch ###\n",
    "        \n",
    "        if global_step % update_freq == 0:\n",
    "            obs_data, act_data, reward_data, next_obs_data, terminal_data = er.sample(train_batch_size)\n",
    "            \n",
    "           \n",
    "            model.train_on_batch(target_model, optimizer, obs_data, act_data,\n",
    "                                 reward_data, next_obs_data, terminal_data,acts)\n",
    "        \n",
    "        ### Update target network ###\n",
    "        \n",
    "        if global_step and global_step % target_update_delay == 0:\n",
    "            target_model = copy.deepcopy(model)\n",
    "        \n",
    "        ### Finish the step ###\n",
    "        \n",
    "        step += 1\n",
    "        global_step += 1\n",
    "\n",
    "        #env.toy_Plot(np.linspace(-3,3,20))\n",
    "\n",
    "        acts = acts[acts != act]\n",
    "        K-=1\n",
    "        acts = acts.reshape(-1,1)\n",
    "        \n",
    "        if done:\n",
    "            print(done,reward)\n",
    "            break\n",
    "\n",
    "    all_rewards.append(reward)\n",
    "    \n",
    "    if episode % print_freq == 0:\n",
    "        print('Episode #{} | Step #{} | Epsilon {:.2f} | Avg. Reward {:.2f}'.format(\n",
    "            episode, global_step, epsilon(global_step), np.mean(all_rewards[-print_freq:])))\n",
    "\n",
    "print(all_rewards)"
   ]
  },
  {
   "cell_type": "code",
   "execution_count": 57,
   "metadata": {},
   "outputs": [],
   "source": [
    "sampler = qmc.LatinHypercube(d=X_dim)\n",
    "sample = sampler.random(n=K)\n",
    "sample_scaled = qmc.scale(sample, l_bounds, u_bounds)\n",
    "acts = np.array(sample_scaled)"
   ]
  },
  {
   "cell_type": "code",
   "execution_count": 59,
   "metadata": {},
   "outputs": [],
   "source": [
    "l1 = []\n",
    "\n",
    "for _ in range(10):\n",
    "    state = env.Reset()\n",
    "    loss1 = []\n",
    "    for step in range(10):\n",
    "        act = random.choices(acts,k=1)[0]\n",
    "        \n",
    "        state, reward, done, _ = env.Step(act)\n",
    "        loss1.append(-reward)\n",
    "    \n",
    "        #env.toy_Plot(np.linspace(-3,3,20))\n",
    "    l1.append(loss1)"
   ]
  },
  {
   "cell_type": "code",
   "execution_count": 60,
   "metadata": {},
   "outputs": [],
   "source": [
    "l2 = []\n",
    "\n",
    "for _ in range(10):\n",
    "    state = env.Reset()\n",
    "    loss2 = []\n",
    "    for step in range(10):\n",
    "        input = torch.tensor(np.concatenate(([state]*K,acts),axis=1)).float() \n",
    "        q_values = model(input)\n",
    "           \n",
    "        act = acts[np.argmax(q_values.detach().numpy())]\n",
    "        \n",
    "        state, reward, done, _ = env.Step(act)\n",
    "        loss2.append(-reward)\n",
    "    \n",
    "        #env.toy_Plot(np.linspace(-3,3,20))\n",
    "    l2.append(loss2)"
   ]
  },
  {
   "cell_type": "code",
   "execution_count": 61,
   "metadata": {},
   "outputs": [
    {
     "data": {
      "image/png": "[encoded data removed]",
      "text/plain": [
       "<Figure size 640x480 with 1 Axes>"
      ]
     },
     "metadata": {},
     "output_type": "display_data"
    }
   ],
   "source": [
    "plt.plot(np.mean(l1,axis=0), color='green')\n",
    "plt.plot(np.mean(l2,axis=0), color='red')\n",
    "plt.show()"
   ]
  },
  {
   "cell_type": "code",
   "execution_count": 62,
   "metadata": {},
   "outputs": [
    {
     "data": {
      "text/plain": [
       "array([0.0142901 , 0.00882947, 0.00842409, 0.01426126, 0.03257144,\n",
       "       0.05547169, 0.00844089, 0.00375003, 0.00268882, 0.00180547])"
      ]
     },
     "execution_count": 62,
     "metadata": {},
     "output_type": "execute_result"
    }
   ],
   "source": [
    "np.var(l1,axis=0)"
   ]
  },
  {
   "cell_type": "code",
   "execution_count": 63,
   "metadata": {},
   "outputs": [
    {
     "data": {
      "text/plain": [
       "array([2.52482215e-09, 9.44308928e-09, 1.56164127e-09, 3.74218222e-09,\n",
       "       3.01452163e-09, 1.25573681e-09, 4.71824180e-10, 4.72767481e-10,\n",
       "       1.29980355e-11, 3.42405348e-11])"
      ]
     },
     "execution_count": 63,
     "metadata": {},
     "output_type": "execute_result"
    }
   ],
   "source": [
    "np.var(l2,axis=0)"
   ]
  },
  {
   "cell_type": "code",
   "execution_count": null,
   "metadata": {},
   "outputs": [],
   "source": []
  },
  {
   "cell_type": "code",
   "execution_count": 89,
   "metadata": {},
   "outputs": [],
   "source": [
    "env.func = np.cos\n",
    "\n",
    "env.y_init = np.cos(X)"
   ]
  },
  {
   "cell_type": "code",
   "execution_count": 99,
   "metadata": {},
   "outputs": [],
   "source": [
    "l1 = []\n",
    "\n",
    "for _ in range(10):\n",
    "    state = env.Reset()\n",
    "    loss1 = []\n",
    "    for step in range(10):\n",
    "        act = random.choices(acts,k=1)[0]\n",
    "        \n",
    "        state, reward, done, _ = env.Step(act)\n",
    "        loss1.append(-reward)\n",
    "    \n",
    "        #env.toy_Plot(np.linspace(-3,3,20))\n",
    "    l1.append(loss1)"
   ]
  },
  {
   "cell_type": "code",
   "execution_count": 100,
   "metadata": {},
   "outputs": [],
   "source": [
    "l2 = []\n",
    "\n",
    "for _ in range(10):\n",
    "    state = env.Reset()\n",
    "    loss2 = []\n",
    "    for step in range(10):\n",
    "        input = torch.tensor(np.concatenate(([state]*K,acts),axis=1)).float() \n",
    "        q_values = model(input)\n",
    "           \n",
    "        act = acts[np.argmax(q_values.detach().numpy())]\n",
    "        \n",
    "        state, reward, done, _ = env.Step(act)\n",
    "        loss2.append(-reward)\n",
    "    \n",
    "        #env.toy_Plot(np.linspace(-3,3,20))\n",
    "    l2.append(loss2)"
   ]
  },
  {
   "cell_type": "code",
   "execution_count": 105,
   "metadata": {},
   "outputs": [
    {
     "data": {
      "image/png": "[encoded data removed]",
      "text/plain": [
       "<Figure size 640x480 with 1 Axes>"
      ]
     },
     "metadata": {},
     "output_type": "display_data"
    }
   ],
   "source": [
    "plt.plot(np.mean(l1,axis=0), color='green', label='Random')\n",
    "plt.plot(np.mean(l2,axis=0), color='red', label='RL agent')\n",
    "plt.xlabel(r\"Number of points\")\n",
    "plt.ylabel(r\"MSE\")\n",
    "plt.legend()\n",
    "plt.show()"
   ]
  },
  {
   "cell_type": "code",
   "execution_count": 107,
   "metadata": {},
   "outputs": [
    {
     "data": {
      "image/png": "[encoded data removed]",
      "text/plain": [
       "<Figure size 1500x300 with 1 Axes>"
      ]
     },
     "metadata": {},
     "output_type": "display_data"
    }
   ],
   "source": [
    "env.toy_Plot(np.linspace(-3,3,20))"
   ]
  },
  {
   "cell_type": "code",
   "execution_count": null,
   "metadata": {},
   "outputs": [],
   "source": []
  }
 ],
 "metadata": {
  "kernelspec": {
   "display_name": "Python 3 (ipykernel)",
   "language": "python",
   "name": "python3"
  },
  "language_info": {
   "codemirror_mode": {
    "name": "ipython",
    "version": 3
   },
   "file_extension": ".py",
   "mimetype": "text/x-python",
   "name": "python",
   "nbconvert_exporter": "python",
   "pygments_lexer": "ipython3",
   "version": "3.12.3"
  }
 },
 "nbformat": 4,
 "nbformat_minor": 4
}
