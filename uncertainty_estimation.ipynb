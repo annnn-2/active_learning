{
 "cells": [
  {
   "cell_type": "code",
   "execution_count": 46,
   "id": "0920ebb3-e0c9-4df7-9b81-0630af9d9eb1",
   "metadata": {},
   "outputs": [],
   "source": [
    "import numpy as np\n",
    "\n",
    "from sklearn.gaussian_process import GaussianProcessRegressor\n",
    "from sklearn.gaussian_process.kernels import RBF, ConstantKernel\n",
    "import matplotlib.pyplot as plt\n",
    "import random\n",
    "from copy import deepcopy\n",
    "\n",
    "import statsmodels.api as sm"
   ]
  },
  {
   "cell_type": "code",
   "execution_count": 167,
   "id": "c0380000-51a0-49d5-b71c-e646597c4812",
   "metadata": {},
   "outputs": [],
   "source": [
    "X = np.linspace(-1, 1, 50).reshape(-1, 1)\n",
    "y = np.random.random(50) * 0.9 + 0.1\n",
    "kernel = RBF(length_scale=3)\n",
    "    \n",
    "    \n",
    "F = GaussianProcessRegressor(kernel=kernel, n_restarts_optimizer=100)\n",
    "F.fit(X, y)\n",
    "\n",
    "\n",
    "grid = np.linspace(-1,1,100).reshape(-1,1)\n",
    "X = np.linspace(-1,1,5).reshape(-1,1)\n",
    "y = F.predict(X).reshape(-1,1)"
   ]
  },
  {
   "cell_type": "code",
   "execution_count": 169,
   "id": "aa4e021a-dfaf-4265-a235-19eade49bf81",
   "metadata": {},
   "outputs": [],
   "source": [
    "deltas = []\n",
    "vars = []\n",
    "\n",
    "kernel = RBF()\n",
    "gp = GaussianProcessRegressor(kernel=kernel,n_restarts_optimizer=50)\n",
    "gp.fit(X, y)\n",
    "for _ in range(20):\n",
    "    mean,var = gp.predict(grid,return_std = True)\n",
    "    a = grid[np.argmax(var)]\n",
    "    a_ = F.predict([a])\n",
    "    \n",
    "    deltas.append(np.abs(a_.item() - mean[np.argmax(var)]))\n",
    "    vars.append(np.max(var))\n",
    "    \n",
    "    X = np.append(X,a).reshape(-1,1)\n",
    "    y = np.append(y,a_).reshape(-1,1)\n",
    "    \n",
    "    gp.fit(X, y)"
   ]
  },
  {
   "cell_type": "code",
   "execution_count": 170,
   "id": "16bdd97f-303f-413e-b7c7-508fc24f69c6",
   "metadata": {},
   "outputs": [
    {
     "data": {
      "text/plain": [
       "<matplotlib.collections.PathCollection at 0x28313d790>"
      ]
     },
     "execution_count": 170,
     "metadata": {},
     "output_type": "execute_result"
    },
    {
     "data": {
      "image/png": "[encoded data removed]",
      "text/plain": [
       "<Figure size 640x480 with 1 Axes>"
      ]
     },
     "metadata": {},
     "output_type": "display_data"
    }
   ],
   "source": [
    "plt.scatter(vars,deltas)"
   ]
  },
  {
   "cell_type": "code",
   "execution_count": 173,
   "id": "8da4b42f-351d-4a37-8d92-15ec72c3e0e9",
   "metadata": {},
   "outputs": [
    {
     "name": "stdout",
     "output_type": "stream",
     "text": [
      "                                 OLS Regression Results                                \n",
      "=======================================================================================\n",
      "Dep. Variable:                      y   R-squared (uncentered):                   0.622\n",
      "Model:                            OLS   Adj. R-squared (uncentered):              0.603\n",
      "Method:                 Least Squares   F-statistic:                              31.32\n",
      "Date:                Fri, 07 Mar 2025   Prob (F-statistic):                    2.14e-05\n",
      "Time:                        10:29:26   Log-Likelihood:                        -0.28555\n",
      "No. Observations:                  20   AIC:                                      2.571\n",
      "Df Residuals:                      19   BIC:                                      3.567\n",
      "Df Model:                           1                                                  \n",
      "Covariance Type:            nonrobust                                                  \n",
      "==============================================================================\n",
      "                 coef    std err          t      P>|t|      [0.025      0.975]\n",
      "------------------------------------------------------------------------------\n",
      "x1             1.3952      0.249      5.597      0.000       0.873       1.917\n",
      "==============================================================================\n",
      "Omnibus:                        0.270   Durbin-Watson:                   1.683\n",
      "Prob(Omnibus):                  0.874   Jarque-Bera (JB):                0.430\n",
      "Skew:                          -0.201   Prob(JB):                        0.807\n",
      "Kurtosis:                       2.404   Cond. No.                         1.00\n",
      "==============================================================================\n",
      "\n",
      "Notes:\n",
      "[1] R² is computed without centering (uncentered) since the model does not contain a constant.\n",
      "[2] Standard Errors assume that the covariance matrix of the errors is correctly specified.\n"
     ]
    }
   ],
   "source": [
    "results = sm.OLS(deltas, vars).fit()\n",
    "\n",
    "print(results.summary())"
   ]
  },
  {
   "cell_type": "markdown",
   "id": "1e8d4d9d-033c-46ae-8fdf-4c6f816f25cf",
   "metadata": {},
   "source": [
    "Low p-value means that there is statistically significant evidence to reject the null hypothesis. Thus there is a linear dependancy "
   ]
  },
  {
   "cell_type": "code",
   "execution_count": 176,
   "id": "e3e80f59-02ec-45c4-8e9e-05933d330834",
   "metadata": {},
   "outputs": [],
   "source": [
    "X = np.linspace(-1,1,5).reshape(-1,1)\n",
    "y = F.predict(X).reshape(-1,1)\n",
    "\n",
    "deltas = []\n",
    "varss = []"
   ]
  },
  {
   "cell_type": "code",
   "execution_count": 178,
   "id": "8e867bec-28fb-4f2a-9e02-21c550e92788",
   "metadata": {},
   "outputs": [],
   "source": [
    "import torch\n",
    "import torch.nn as nn\n",
    "import torch.optim as optim\n",
    "from torch.utils.data import DataLoader, TensorDataset\n",
    "from sklearn.model_selection import KFold\n",
    "from sklearn.metrics import mean_squared_error, r2_score\n",
    "import numpy as np\n",
    "from scipy.stats import qmc\n",
    "import time\n",
    "\n",
    "class NeuralNet(nn.Module):\n",
    "    def __init__(self):\n",
    "        super(NeuralNet, self).__init__()\n",
    "        self.fc1 = nn.Linear(in_features=1, out_features=16)\n",
    "        #self.fc2 = nn.Linear(in_features=16, out_features=16)\n",
    "        self.fc3 = nn.Linear(in_features=16, out_features=16)\n",
    "        self.fc4 = nn.Linear(in_features=16, out_features=1)\n",
    "        self.relu = nn.ReLU()\n",
    "        #self.softmax = nn.Softmax(dim=1)\n",
    "\n",
    "    def forward(self, x):\n",
    "        x = self.relu(self.fc1(x))\n",
    "        #x = self.relu(self.fc2(x))\n",
    "        x = self.relu(self.fc3(x))\n",
    "        x = self.fc4(x)\n",
    "        return x\n",
    "\n",
    "\n",
    "\n",
    "X_grid = grid\n",
    "X_train,y_train = X,y\n",
    "\n",
    "mse_nn = []\n",
    "r2_nn = []\n",
    "time_nn = []\n",
    "\n",
    "mods = []\n",
    "    \n",
    "for _ in range(20):\n",
    "        \n",
    "    kf = KFold(n_splits=5, shuffle=True, random_state=42)\n",
    "\n",
    "    train_losses = []\n",
    "    val_losses = []\n",
    "\n",
    "    models = []\n",
    "\n",
    "    for fold, (train_index, val_index) in enumerate(kf.split(X_train)):\n",
    "    \n",
    "        X_train_fold, X_val_fold = X_train[train_index], X_train[val_index]\n",
    "        y_train_fold, y_val_fold = y_train[train_index], y_train[val_index]\n",
    "\n",
    "        train_data = TensorDataset(torch.Tensor(X_train_fold), torch.Tensor(y_train_fold))\n",
    "        val_data = TensorDataset(torch.Tensor(X_val_fold), torch.Tensor(y_val_fold))\n",
    "\n",
    "        batch_size = 16\n",
    "        train_loader = DataLoader(train_data, batch_size=batch_size, shuffle=True)\n",
    "        val_loader = DataLoader(val_data, batch_size=batch_size, shuffle=False)\n",
    "\n",
    "        model = NeuralNet()\n",
    "        criterion =  nn.MSELoss()\n",
    "        optimizer = optim.Adam(model.parameters(), lr=0.001)\n",
    "\n",
    "        num_epochs = 400\n",
    "        for epoch in range(num_epochs):\n",
    "                #model.train()\n",
    "            running_loss = 0.0\n",
    "            for inputs, labels in train_loader:\n",
    "                optimizer.zero_grad()\n",
    "                outputs = model(inputs)\n",
    "                loss = criterion(outputs, labels)\n",
    "                loss.backward()\n",
    "                optimizer.step()\n",
    "                running_loss += loss.item() * inputs.size(0)\n",
    "            epoch_loss = running_loss / len(train_loader.dataset)\n",
    "            train_losses.append(epoch_loss)\n",
    "\n",
    "\n",
    "        models.append(model)\n",
    "\n",
    "    \n",
    "    preds = []\n",
    "    test_preds = []\n",
    "    grid = torch.Tensor(X_grid)\n",
    "        \n",
    "\n",
    "    if True:\n",
    "        for m in models:\n",
    "            preds.append(m(grid).detach().numpy())\n",
    "        \n",
    "    vars = np.var(preds,axis=0)\n",
    "    a = X_grid[np.argmax(np.var(preds,axis=0))]\n",
    "    a_ = F.predict([a])\n",
    "    \n",
    "    deltas.append(np.abs(a_.item() - np.mean(preds,axis=0)[np.argmax(var)]))\n",
    "    varss.append(np.max(vars))\n",
    "\n",
    "        \n",
    "    X_train = np.append(X_train,a).reshape(-1,1)\n",
    "    y_train = np.append(y_train, a_).reshape(-1,1)\n",
    "\n",
    "    mods = models"
   ]
  },
  {
   "cell_type": "code",
   "execution_count": 179,
   "id": "e8e3ba29-4aea-4aa3-8db7-19a93afd47c0",
   "metadata": {},
   "outputs": [
    {
     "data": {
      "text/plain": [
       "<matplotlib.collections.PathCollection at 0x283135eb0>"
      ]
     },
     "execution_count": 179,
     "metadata": {},
     "output_type": "execute_result"
    },
    {
     "data": {
      "image/png": "[encoded data removed]",
      "text/plain": [
       "<Figure size 640x480 with 1 Axes>"
      ]
     },
     "metadata": {},
     "output_type": "display_data"
    }
   ],
   "source": [
    "plt.scatter(varss,deltas)"
   ]
  },
  {
   "cell_type": "code",
   "execution_count": 180,
   "id": "dedb5220-155c-4dea-a4ce-1e4f17a0d778",
   "metadata": {},
   "outputs": [
    {
     "name": "stdout",
     "output_type": "stream",
     "text": [
      "                                 OLS Regression Results                                \n",
      "=======================================================================================\n",
      "Dep. Variable:                      y   R-squared (uncentered):                   0.660\n",
      "Model:                            OLS   Adj. R-squared (uncentered):              0.642\n",
      "Method:                 Least Squares   F-statistic:                              36.91\n",
      "Date:                Fri, 07 Mar 2025   Prob (F-statistic):                    7.66e-06\n",
      "Time:                        10:29:43   Log-Likelihood:                          2.0678\n",
      "No. Observations:                  20   AIC:                                     -2.136\n",
      "Df Residuals:                      19   BIC:                                     -1.140\n",
      "Df Model:                           1                                                  \n",
      "Covariance Type:            nonrobust                                                  \n",
      "==============================================================================\n",
      "                 coef    std err          t      P>|t|      [0.025      0.975]\n",
      "------------------------------------------------------------------------------\n",
      "x1            17.9733      2.958      6.075      0.000      11.781      24.165\n",
      "==============================================================================\n",
      "Omnibus:                        4.619   Durbin-Watson:                   1.656\n",
      "Prob(Omnibus):                  0.099   Jarque-Bera (JB):                2.434\n",
      "Skew:                           0.691   Prob(JB):                        0.296\n",
      "Kurtosis:                       4.005   Cond. No.                         1.00\n",
      "==============================================================================\n",
      "\n",
      "Notes:\n",
      "[1] R² is computed without centering (uncentered) since the model does not contain a constant.\n",
      "[2] Standard Errors assume that the covariance matrix of the errors is correctly specified.\n"
     ]
    }
   ],
   "source": [
    "results = sm.OLS(deltas, varss).fit()\n",
    "\n",
    "print(results.summary())"
   ]
  },
  {
   "cell_type": "code",
   "execution_count": null,
   "id": "d52f11ef-623f-4b7c-8c3d-fac4d684766a",
   "metadata": {},
   "outputs": [],
   "source": []
  }
 ],
 "metadata": {
  "kernelspec": {
   "display_name": "Python 3 (ipykernel)",
   "language": "python",
   "name": "python3"
  },
  "language_info": {
   "codemirror_mode": {
    "name": "ipython",
    "version": 3
   },
   "file_extension": ".py",
   "mimetype": "text/x-python",
   "name": "python",
   "nbconvert_exporter": "python",
   "pygments_lexer": "ipython3",
   "version": "3.12.3"
  }
 },
 "nbformat": 4,
 "nbformat_minor": 5
}
